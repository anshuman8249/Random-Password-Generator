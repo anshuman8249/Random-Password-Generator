{
  "nbformat": 4,
  "nbformat_minor": 0,
  "metadata": {
    "colab": {
      "provenance": []
    },
    "kernelspec": {
      "name": "python3",
      "display_name": "Python 3"
    },
    "language_info": {
      "name": "python"
    }
  },
  "cells": [
    {
      "cell_type": "markdown",
      "source": [
        "**Project** **Overview**\n",
        "\n",
        "Goal: Build a command-line tool that generates secure random passwords based on:\n",
        "\n",
        "Length (e.g., 8–50 characters)\n",
        "\n",
        "Character types:\n",
        "\n",
        "Letters (uppercase/lowercase)\n",
        "\n",
        "Numbers\n",
        "\n",
        "Symbols"
      ],
      "metadata": {
        "id": "tGMfUqljoAmh"
      }
    },
    {
      "cell_type": "markdown",
      "source": [
        " **Key** **Concepts**\n",
        "\n",
        "Randomization – Using Python's random module to pick characters.\n",
        "\n",
        "String Handling – Managing and combining character sets.\n",
        "\n",
        "Input Validation – Ensuring users provide valid options.\n",
        "\n",
        "Loops & Conditionals – Asking questions and adjusting logic based on answers."
      ],
      "metadata": {
        "id": "GANajyaAu3e1"
      }
    },
    {
      "cell_type": "code",
      "execution_count": null,
      "metadata": {
        "colab": {
          "base_uri": "https://localhost:8080/"
        },
        "id": "0a0GOVfzlTLY",
        "outputId": "838149aa-436c-4e22-89c5-50d74bbc6984"
      },
      "outputs": [
        {
          "name": "stdout",
          "output_type": "stream",
          "text": [
            "🔒 Random Password Generator 🔒\n",
            "Enter the password length: 5\n",
            "Include letters? (y/n): y\n",
            "Include digits? (y/n): y\n"
          ]
        }
      ],
      "source": [
        "import random\n",
        "import string\n",
        "\n",
        "def get_user_input():\n",
        "    while True:\n",
        "        try:\n",
        "            length = int(input(\"Enter the password length: \"))\n",
        "            if length < 4:\n",
        "                print(\"Password should be at least 4 characters long.\")\n",
        "                continue\n",
        "            break\n",
        "        except ValueError:\n",
        "            print(\"Please enter a valid number.\")\n",
        "\n",
        "    use_letters = input(\"Include letters? (y/n): \").strip().lower() == 'y'\n",
        "    use_digits = input(\"Include digits? (y/n): \").strip().lower() == 'y'\n",
        "    use_symbols = input(\"Include symbols? (y/n): \").strip().lower() == 'y'\n",
        "\n",
        "    if not (use_letters or use_digits or use_symbols):\n",
        "        print(\"You must select at least one character type.\")\n",
        "        return get_user_input()\n",
        "\n",
        "    return length, use_letters, use_digits, use_symbols\n",
        "\n",
        "def generate_password(length, use_letters, use_digits, use_symbols):\n",
        "    char_pool = ''\n",
        "    if use_letters:\n",
        "        char_pool += string.ascii_letters\n",
        "    if use_digits:\n",
        "        char_pool += string.digits\n",
        "    if use_symbols:\n",
        "        char_pool += string.punctuation\n",
        "\n",
        "    password = ''.join(random.choice(char_pool) for _ in range(length))\n",
        "    return password\n",
        "\n",
        "def main():\n",
        "    print(\"🔒 Random Password Generator 🔒\")\n",
        "    length, use_letters, use_digits, use_symbols = get_user_input()\n",
        "    password = generate_password(length, use_letters, use_digits, use_symbols)\n",
        "    print(f\"\\nYour generated password is:\\n{password}\")\n",
        "\n",
        "if __name__ == \"__main__\":\n",
        "    main()\n"
      ]
    },
    {
      "cell_type": "code",
      "source": [],
      "metadata": {
        "id": "B_mhq0BkoSSU"
      },
      "execution_count": null,
      "outputs": []
    }
  ]
}